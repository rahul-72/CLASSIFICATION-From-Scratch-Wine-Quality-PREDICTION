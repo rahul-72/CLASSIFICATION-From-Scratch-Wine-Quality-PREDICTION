{
 "cells": [
  {
   "cell_type": "markdown",
   "metadata": {},
   "source": [
    "# CLASSIFICATION From Scratch-Wine Quality PREDICTION."
   ]
  },
  {
   "cell_type": "markdown",
   "metadata": {},
   "source": [
    "<img src='https://drive.google.com/uc?id=1rDtG6-ZOCf_6lrLI5oLQMg_P1-XPkZih' width=1000 >"
   ]
  },
  {
   "cell_type": "markdown",
   "metadata": {},
   "source": [
    "### In this Notebook we will Learn:-\n",
    "* Basic EDA.\n",
    "* Dimensionality reduction (PCA).\n",
    "* K-Cross validation to check accuracy.\n",
    "* ML's Classification Models like:-\n",
    "       * Logistic Regression\n",
    "       * Support Vector Machine (SVM) with Linear kernel\n",
    "       * Support Vector Machine (SVM) with Gaussian kernel\n",
    "       * K-Nearest Neighbour (KNN)\n",
    "       * Naive Bayes\n",
    "       * Decision Tree\n",
    "       * Random Forest\n",
    "* Prediction on new Values."
   ]
  },
  {
   "cell_type": "code",
   "execution_count": 1,
   "metadata": {
    "_cell_guid": "b1076dfc-b9ad-4769-8c92-a6c4dae69d19",
    "_uuid": "8f2839f25d086af736a60e9eeb907d3b93b6e0e5"
   },
   "outputs": [
    {
     "name": "stdout",
     "output_type": "stream",
     "text": [
      "['winequality-red.csv']\n",
      "\n"
     ]
    }
   ],
   "source": [
    "# This Python 3 environment comes with many helpful analytics libraries installed\n",
    "# It is defined by the kaggle/python docker image: https://github.com/kaggle/docker-python\n",
    "# For example, here's several helpful packages to load in \n",
    "\n",
    "import numpy as np # linear algebra\n",
    "import pandas as pd # data processing, CSV file I/O (e.g. pd.read_csv)\n",
    "import matplotlib.pyplot as plt\n",
    "import seaborn as sns\n",
    "import warnings\n",
    "warnings.filterwarnings('ignore')\n",
    "import os\n",
    "print(os.listdir(\"input\"))\n",
    "print()"
   ]
  },
  {
   "cell_type": "code",
   "execution_count": 2,
   "metadata": {
    "_cell_guid": "79c7e3d0-c299-4dcb-8224-4455121ee9b0",
    "_uuid": "d629ff2d2480ee46fbb7e2d37f6b5fab8052498a"
   },
   "outputs": [],
   "source": [
    "try:\n",
    "    df = pd.read_csv('../input/winequality-red.csv')\n",
    "except Exception as e:\n",
    "    df = pd.read_csv('input/winequality-red.csv')\n"
   ]
  },
  {
   "cell_type": "code",
   "execution_count": 3,
   "metadata": {},
   "outputs": [
    {
     "data": {
      "text/html": [
       "<div>\n",
       "<style scoped>\n",
       "    .dataframe tbody tr th:only-of-type {\n",
       "        vertical-align: middle;\n",
       "    }\n",
       "\n",
       "    .dataframe tbody tr th {\n",
       "        vertical-align: top;\n",
       "    }\n",
       "\n",
       "    .dataframe thead th {\n",
       "        text-align: right;\n",
       "    }\n",
       "</style>\n",
       "<table border=\"1\" class=\"dataframe\">\n",
       "  <thead>\n",
       "    <tr style=\"text-align: right;\">\n",
       "      <th></th>\n",
       "      <th>fixed acidity</th>\n",
       "      <th>volatile acidity</th>\n",
       "      <th>citric acid</th>\n",
       "      <th>residual sugar</th>\n",
       "      <th>chlorides</th>\n",
       "      <th>free sulfur dioxide</th>\n",
       "      <th>total sulfur dioxide</th>\n",
       "      <th>density</th>\n",
       "      <th>pH</th>\n",
       "      <th>sulphates</th>\n",
       "      <th>alcohol</th>\n",
       "      <th>quality</th>\n",
       "    </tr>\n",
       "  </thead>\n",
       "  <tbody>\n",
       "    <tr>\n",
       "      <th>0</th>\n",
       "      <td>7.4</td>\n",
       "      <td>0.70</td>\n",
       "      <td>0.00</td>\n",
       "      <td>1.9</td>\n",
       "      <td>0.076</td>\n",
       "      <td>11.0</td>\n",
       "      <td>34.0</td>\n",
       "      <td>0.9978</td>\n",
       "      <td>3.51</td>\n",
       "      <td>0.56</td>\n",
       "      <td>9.4</td>\n",
       "      <td>5</td>\n",
       "    </tr>\n",
       "    <tr>\n",
       "      <th>1</th>\n",
       "      <td>7.8</td>\n",
       "      <td>0.88</td>\n",
       "      <td>0.00</td>\n",
       "      <td>2.6</td>\n",
       "      <td>0.098</td>\n",
       "      <td>25.0</td>\n",
       "      <td>67.0</td>\n",
       "      <td>0.9968</td>\n",
       "      <td>3.20</td>\n",
       "      <td>0.68</td>\n",
       "      <td>9.8</td>\n",
       "      <td>5</td>\n",
       "    </tr>\n",
       "    <tr>\n",
       "      <th>2</th>\n",
       "      <td>7.8</td>\n",
       "      <td>0.76</td>\n",
       "      <td>0.04</td>\n",
       "      <td>2.3</td>\n",
       "      <td>0.092</td>\n",
       "      <td>15.0</td>\n",
       "      <td>54.0</td>\n",
       "      <td>0.9970</td>\n",
       "      <td>3.26</td>\n",
       "      <td>0.65</td>\n",
       "      <td>9.8</td>\n",
       "      <td>5</td>\n",
       "    </tr>\n",
       "    <tr>\n",
       "      <th>3</th>\n",
       "      <td>11.2</td>\n",
       "      <td>0.28</td>\n",
       "      <td>0.56</td>\n",
       "      <td>1.9</td>\n",
       "      <td>0.075</td>\n",
       "      <td>17.0</td>\n",
       "      <td>60.0</td>\n",
       "      <td>0.9980</td>\n",
       "      <td>3.16</td>\n",
       "      <td>0.58</td>\n",
       "      <td>9.8</td>\n",
       "      <td>6</td>\n",
       "    </tr>\n",
       "    <tr>\n",
       "      <th>4</th>\n",
       "      <td>7.4</td>\n",
       "      <td>0.70</td>\n",
       "      <td>0.00</td>\n",
       "      <td>1.9</td>\n",
       "      <td>0.076</td>\n",
       "      <td>11.0</td>\n",
       "      <td>34.0</td>\n",
       "      <td>0.9978</td>\n",
       "      <td>3.51</td>\n",
       "      <td>0.56</td>\n",
       "      <td>9.4</td>\n",
       "      <td>5</td>\n",
       "    </tr>\n",
       "  </tbody>\n",
       "</table>\n",
       "</div>"
      ],
      "text/plain": [
       "   fixed acidity  volatile acidity  citric acid  residual sugar  chlorides  \\\n",
       "0            7.4              0.70         0.00             1.9      0.076   \n",
       "1            7.8              0.88         0.00             2.6      0.098   \n",
       "2            7.8              0.76         0.04             2.3      0.092   \n",
       "3           11.2              0.28         0.56             1.9      0.075   \n",
       "4            7.4              0.70         0.00             1.9      0.076   \n",
       "\n",
       "   free sulfur dioxide  total sulfur dioxide  density    pH  sulphates  \\\n",
       "0                 11.0                  34.0   0.9978  3.51       0.56   \n",
       "1                 25.0                  67.0   0.9968  3.20       0.68   \n",
       "2                 15.0                  54.0   0.9970  3.26       0.65   \n",
       "3                 17.0                  60.0   0.9980  3.16       0.58   \n",
       "4                 11.0                  34.0   0.9978  3.51       0.56   \n",
       "\n",
       "   alcohol  quality  \n",
       "0      9.4        5  \n",
       "1      9.8        5  \n",
       "2      9.8        5  \n",
       "3      9.8        6  \n",
       "4      9.4        5  "
      ]
     },
     "execution_count": 3,
     "metadata": {},
     "output_type": "execute_result"
    }
   ],
   "source": [
    "df.head()"
   ]
  },
  {
   "cell_type": "code",
   "execution_count": 4,
   "metadata": {},
   "outputs": [
    {
     "data": {
      "text/plain": [
       "(1599, 12)"
      ]
     },
     "execution_count": 4,
     "metadata": {},
     "output_type": "execute_result"
    }
   ],
   "source": [
    "df.shape"
   ]
  },
  {
   "cell_type": "code",
   "execution_count": 5,
   "metadata": {},
   "outputs": [
    {
     "name": "stdout",
     "output_type": "stream",
     "text": [
      "<class 'pandas.core.frame.DataFrame'>\n",
      "RangeIndex: 1599 entries, 0 to 1598\n",
      "Data columns (total 12 columns):\n",
      "fixed acidity           1599 non-null float64\n",
      "volatile acidity        1599 non-null float64\n",
      "citric acid             1599 non-null float64\n",
      "residual sugar          1599 non-null float64\n",
      "chlorides               1599 non-null float64\n",
      "free sulfur dioxide     1599 non-null float64\n",
      "total sulfur dioxide    1599 non-null float64\n",
      "density                 1599 non-null float64\n",
      "pH                      1599 non-null float64\n",
      "sulphates               1599 non-null float64\n",
      "alcohol                 1599 non-null float64\n",
      "quality                 1599 non-null int64\n",
      "dtypes: float64(11), int64(1)\n",
      "memory usage: 150.0 KB\n"
     ]
    }
   ],
   "source": [
    "df.info()"
   ]
  },
  {
   "cell_type": "markdown",
   "metadata": {},
   "source": [
    "* AS there is no Null Values in the dataset, good.\n",
    "* There is no Categorical values in the dataset.\n",
    "* Dataset is in proper format let us directly go to Classification portion.\n"
   ]
  },
  {
   "cell_type": "code",
   "execution_count": 6,
   "metadata": {},
   "outputs": [
    {
     "data": {
      "image/png": "[encoded data removed]",
      "text/plain": [
       "<Figure size 864x432 with 2 Axes>"
      ]
     },
     "metadata": {
      "needs_background": "light"
     },
     "output_type": "display_data"
    }
   ],
   "source": [
    "# Let us see the correlation between the different variables\n",
    "# We will reduce the number of features from Principle Componemt Analysis (PCA)\n",
    "plt.figure(figsize=(12,6))\n",
    "sns.heatmap(data=df.corr())\n",
    "plt.show()"
   ]
  },
  {
   "cell_type": "markdown",
   "metadata": {},
   "source": [
    "### ========================================================================"
   ]
  },
  {
   "cell_type": "markdown",
   "metadata": {},
   "source": [
    "# CLASSIFICATION:-\n"
   ]
  },
  {
   "cell_type": "markdown",
   "metadata": {},
   "source": [
    "#### Here we will use 7 Algoritms/Models of Classification of machine learning.\n",
    "* They are as follow:-\n",
    "* Logistic Regresion\n",
    "* Support Vector Machine (SVM) with Linear kernel\n",
    "* Support Vector Machine (SVM) with Gaussian kernel\n",
    "* K-Nearest Neibhour (K-NN)\n",
    "* Naive Bayes\n",
    "* Decision Tree\n",
    "* Random Forest Model\n",
    "* We will use all the models one by one and then we will check the accuracy in each model and compare them, then we will choose the best model for our dataset."
   ]
  },
  {
   "cell_type": "code",
   "execution_count": 7,
   "metadata": {},
   "outputs": [],
   "source": [
    "# Let us Import the Important Libraries  to train our Model for Machine Learning \n",
    "from sklearn.linear_model import LogisticRegression\n",
    "from sklearn.svm import SVC\n",
    "from sklearn.neighbors import KNeighborsClassifier\n",
    "from sklearn.naive_bayes import GaussianNB\n",
    "from sklearn.tree import DecisionTreeClassifier\n",
    "from sklearn.ensemble import RandomForestClassifier\n",
    "from sklearn.preprocessing import StandardScaler      # For Scaling the dataset\n",
    "from sklearn.model_selection import cross_val_score   # To check the accuracy of the model."
   ]
  },
  {
   "cell_type": "markdown",
   "metadata": {},
   "source": [
    "* Here we do not have missing values, there is no categorical feature, and also we do not need to Split the dataset.\n",
    "* Here we will apply Scaling on our dataset."
   ]
  },
  {
   "cell_type": "code",
   "execution_count": 8,
   "metadata": {},
   "outputs": [],
   "source": [
    "# Converting the DataFrame into Feature matrix and Target Vector.\n",
    "x_train = df.iloc[:,:-1].values\n",
    "y_train = df.iloc[:,-1].values"
   ]
  },
  {
   "cell_type": "markdown",
   "metadata": {},
   "source": [
    "#### 1). Scaling the dataset."
   ]
  },
  {
   "cell_type": "code",
   "execution_count": 9,
   "metadata": {},
   "outputs": [],
   "source": [
    "# Let us use scaling on our dataset.\n",
    "\n",
    "sc_x = StandardScaler()\n",
    "x_train = sc_x.fit_transform(x_train)\n"
   ]
  },
  {
   "cell_type": "markdown",
   "metadata": {},
   "source": [
    "#### 2). Dimensionalty Reduction with Principle Component Analysis (PCA)."
   ]
  },
  {
   "cell_type": "code",
   "execution_count": 10,
   "metadata": {},
   "outputs": [
    {
     "data": {
      "text/plain": [
       "array([0.28173931, 0.1750827 , 0.1409585 , 0.11029387, 0.08720837,\n",
       "       0.05996439, 0.05307193, 0.03845061, 0.0313311 , 0.01648483,\n",
       "       0.00541439])"
      ]
     },
     "execution_count": 10,
     "metadata": {},
     "output_type": "execute_result"
    }
   ],
   "source": [
    "from sklearn.decomposition import PCA\n",
    "pca = PCA(n_components=None, )\n",
    "x_train = pca.fit_transform(x_train)\n",
    "explain_variance = pca.explained_variance_ratio_\n",
    "explain_variance"
   ]
  },
  {
   "cell_type": "markdown",
   "metadata": {},
   "source": [
    "* We will take n_component = 5, as sum of initial 5 variance is 0.80, which is very good."
   ]
  },
  {
   "cell_type": "code",
   "execution_count": 11,
   "metadata": {},
   "outputs": [
    {
     "data": {
      "text/plain": [
       "' \\npca = PCA(n_components=5)\\nx_train = pca.fit_transform(x_train)\\n'"
      ]
     },
     "execution_count": 11,
     "metadata": {},
     "output_type": "execute_result"
    }
   ],
   "source": [
    "# Let us apply PCA.\n",
    "\"\"\" \n",
    "pca = PCA(n_components=5)\n",
    "x_train = pca.fit_transform(x_train)\n",
    "\"\"\""
   ]
  },
  {
   "cell_type": "markdown",
   "metadata": {},
   "source": [
    "#### Observation:- \n",
    "* I have check models without applying PCA and with applying PCA.\n",
    "* I am getting best result while not applying PCA.\n",
    "* So, we will not reduce the dimension of our matrix, as it is effecting our results by 5% which is very high."
   ]
  },
  {
   "cell_type": "markdown",
   "metadata": {},
   "source": [
    "#### 3). Apply All Classification Models and compare their accuracies."
   ]
  },
  {
   "cell_type": "code",
   "execution_count": 12,
   "metadata": {},
   "outputs": [],
   "source": [
    "def all_models():\n",
    "    # Apply One model at a time , not all in a single function. If we run all in a single function then it will take too much memory(RAM) and time.\n",
    "\n",
    "    # Apply Logistic regression\n",
    "    # First step is to train our model .\n",
    "\n",
    "    classifier_logi = LogisticRegression()\n",
    "    classifier_logi.fit(x_train,y_train)\n",
    "\n",
    "    # Let us check the accuracy of the model\n",
    "    accuracy = cross_val_score(estimator=classifier_logi, X=x_train, y=y_train, cv=10)\n",
    "    print(f\"The accuracy of the Logistic Regressor Model is \\t {accuracy.mean()}\")\n",
    "    print(f\"The deviation in the accuracy is \\t {accuracy.std()}\")\n",
    "    print()\n",
    "\n",
    "\n",
    "\n",
    "    # Apply SVM with Gaussian kernel\n",
    "    classifier_svm2 = SVC(kernel='rbf', )\n",
    "    classifier_svm2.fit(x_train,y_train)\n",
    "    accuracy = cross_val_score(estimator=classifier_svm2, X=x_train, y=y_train, cv=10)\n",
    "    print(f\"The accuracy of the SVM Gaussian kernel Model is \\t {accuracy.mean()}\")\n",
    "    print(f\"The deviation in the accuracy is \\t {accuracy.std()}\")\n",
    "    print()\n",
    "\n",
    "\n",
    "\n",
    "    # Apply K_NN Model\n",
    "    # Train model\n",
    "    classifier_knn = KNeighborsClassifier()\n",
    "    classifier_knn.fit(x_train,y_train)\n",
    "    # Check the accuracy.\n",
    "    accuracy = cross_val_score(estimator=classifier_knn, X=x_train, y=y_train, cv=10)\n",
    "    print(f\"The accuracy of the KNN Model is \\t {accuracy.mean()}\") \n",
    "    print(f\"The deviation in the accuracy is \\t {accuracy.std()}\")\n",
    "    print()\n",
    "\n",
    "\n",
    "    # Apply Naive Bayes Model.\n",
    "    # Train Model\n",
    "    classifier_bayes = GaussianNB()\n",
    "    classifier_bayes.fit(x_train,y_train)\n",
    "    # Check the accuracy and deviation in the accuracy\n",
    "    accuracy = cross_val_score(estimator=classifier_bayes, X=x_train, y=y_train, cv=10)\n",
    "    print(f\"The accuracy of the Naive Bayes Model is \\t {accuracy.mean()}\") \n",
    "    print(f\"The deviation in the accuracy is \\t {accuracy.std()}\")\n",
    "    print()\n",
    "\n",
    "\n",
    "    # Apply Random Forest Model.\n",
    "    # Train Model\n",
    "    classifier_ran = RandomForestClassifier(n_estimators=10, criterion='entropy')\n",
    "    classifier_ran.fit(x_train,y_train)\n",
    "    # Check the accuracy and deviation in the accuracy\n",
    "    accuracy = cross_val_score(estimator=classifier_ran, X=x_train, y=y_train, cv=10)\n",
    "    print(f\"The accuracy of the Random Forest Model is \\t {accuracy.mean()}\") \n",
    "    print(f\"The deviation in the accuracy is \\t {accuracy.std()}\")\n",
    "    print()\n",
    "    \n",
    "    return classifier_svm2"
   ]
  },
  {
   "cell_type": "code",
   "execution_count": 13,
   "metadata": {},
   "outputs": [
    {
     "name": "stdout",
     "output_type": "stream",
     "text": [
      "The accuracy of the Logistic Regressor Model is \t 0.5817966552453789\n",
      "The deviation in the accuracy is \t 0.060917479169472356\n",
      "\n",
      "The accuracy of the SVM Gaussian kernel Model is \t 0.5905546128015512\n",
      "The deviation in the accuracy is \t 0.06077778247920549\n",
      "\n",
      "The accuracy of the KNN Model is \t 0.5192434786968886\n",
      "The deviation in the accuracy is \t 0.03453261034152516\n",
      "\n",
      "The accuracy of the Naive Bayes Model is \t 0.5391969427717295\n",
      "The deviation in the accuracy is \t 0.03386392962281404\n",
      "\n",
      "The accuracy of the Random Forest Model is \t 0.5543591099228147\n",
      "The deviation in the accuracy is \t 0.043850826566475924\n",
      "\n"
     ]
    }
   ],
   "source": [
    "# Let us run the all_models funtion and see the accuracies of all model\n",
    "classifier = all_models()"
   ]
  },
  {
   "cell_type": "markdown",
   "metadata": {},
   "source": [
    "#### Observation:- \n",
    "* The best accuracy, we are getting is from SVM Gaussian kernel Model, which is 59% with deviation of 6%.\n",
    "* In future if we predict on new values then we will get the accuracy in range of 53% to 65%.\n",
    "* Now one can take all inputs from User and make it a numpy array and can predict from our model."
   ]
  },
  {
   "cell_type": "code",
   "execution_count": 14,
   "metadata": {},
   "outputs": [
    {
     "data": {
      "text/plain": [
       "array([5, 5, 5, 6, 5, 5, 5, 7, 7, 5, 5, 5, 5, 5, 5, 5, 7, 5, 4, 6, 6, 5,\n",
       "       5, 5, 6, 5, 5, 5, 5, 6, 5, 6, 5, 6, 5, 6, 6, 7, 4, 5, 5, 4, 6, 5,\n",
       "       5, 4, 5, 5, 5, 5], dtype=int64)"
      ]
     },
     "execution_count": 14,
     "metadata": {},
     "output_type": "execute_result"
    }
   ],
   "source": [
    "# Our Target vector\n",
    "y_train[:50]"
   ]
  },
  {
   "cell_type": "code",
   "execution_count": 15,
   "metadata": {},
   "outputs": [
    {
     "data": {
      "text/plain": [
       "array([5, 5, 5, 5, 5, 5, 5, 5, 5, 5, 5, 5, 5, 5, 5, 5, 5, 5, 5, 5, 5, 5,\n",
       "       6, 5, 6, 5, 5, 6, 5, 5, 5, 6, 5, 6, 5, 5, 5, 6, 5, 5, 5, 5, 6, 6,\n",
       "       5, 6, 5, 5, 5, 5], dtype=int64)"
      ]
     },
     "execution_count": 15,
     "metadata": {},
     "output_type": "execute_result"
    }
   ],
   "source": [
    "# Making prediction on our Feature matrix and compare it with our Target vector.\n",
    "classifier.predict(x_train)[:50]"
   ]
  },
  {
   "cell_type": "markdown",
   "metadata": {},
   "source": [
    "* Maximum times we are getting the same result."
   ]
  },
  {
   "cell_type": "markdown",
   "metadata": {},
   "source": [
    "### =========================================================================\n",
    "### =========================================================================\n",
    "### =========================================================================\n",
    "### ========================================================================="
   ]
  },
  {
   "cell_type": "code",
   "execution_count": null,
   "metadata": {},
   "outputs": [],
   "source": []
  }
 ],
 "metadata": {
  "kernelspec": {
   "display_name": "Python 3",
   "language": "python",
   "name": "python3"
  },
  "language_info": {
   "codemirror_mode": {
    "name": "ipython",
    "version": 3
   },
   "file_extension": ".py",
   "mimetype": "text/x-python",
   "name": "python",
   "nbconvert_exporter": "python",
   "pygments_lexer": "ipython3",
   "version": "3.7.0"
  }
 },
 "nbformat": 4,
 "nbformat_minor": 1
}
